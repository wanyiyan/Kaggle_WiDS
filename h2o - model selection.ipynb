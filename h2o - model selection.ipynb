{
 "cells": [
  {
   "cell_type": "code",
   "execution_count": 1,
   "metadata": {},
   "outputs": [
    {
     "name": "stdout",
     "output_type": "stream",
     "text": [
      "Checking whether there is an H2O instance running at http://localhost:54321 ..... not found.\n",
      "Attempting to start a local H2O server...\n",
      "; OpenJDK 64-Bit Server VM (build 25.152-b12, mixed mode)56-b12)\n",
      "  Starting server from C:\\Users\\wanyi\\Anaconda3\\lib\\site-packages\\h2o\\backend\\bin\\h2o.jar\n",
      "  Ice root: C:\\Users\\wanyi\\AppData\\Local\\Temp\\tmptjwqjqb9\n",
      "  JVM stdout: C:\\Users\\wanyi\\AppData\\Local\\Temp\\tmptjwqjqb9\\h2o_wanyi_started_from_python.out\n",
      "  JVM stderr: C:\\Users\\wanyi\\AppData\\Local\\Temp\\tmptjwqjqb9\\h2o_wanyi_started_from_python.err\n",
      "  Server is running at http://127.0.0.1:54321\n",
      "Connecting to H2O server at http://127.0.0.1:54321 ... successful.\n"
     ]
    },
    {
     "data": {
      "text/html": [
       "<div style=\"overflow:auto\"><table style=\"width:50%\"><tr><td>H2O cluster uptime:</td>\n",
       "<td>03 secs</td></tr>\n",
       "<tr><td>H2O cluster timezone:</td>\n",
       "<td>America/Chicago</td></tr>\n",
       "<tr><td>H2O data parsing timezone:</td>\n",
       "<td>UTC</td></tr>\n",
       "<tr><td>H2O cluster version:</td>\n",
       "<td>3.28.0.3</td></tr>\n",
       "<tr><td>H2O cluster version age:</td>\n",
       "<td>1 month and 4 days </td></tr>\n",
       "<tr><td>H2O cluster name:</td>\n",
       "<td>H2O_from_python_wanyi_qogpaz</td></tr>\n",
       "<tr><td>H2O cluster total nodes:</td>\n",
       "<td>1</td></tr>\n",
       "<tr><td>H2O cluster free memory:</td>\n",
       "<td>3.521 Gb</td></tr>\n",
       "<tr><td>H2O cluster total cores:</td>\n",
       "<td>8</td></tr>\n",
       "<tr><td>H2O cluster allowed cores:</td>\n",
       "<td>8</td></tr>\n",
       "<tr><td>H2O cluster status:</td>\n",
       "<td>accepting new members, healthy</td></tr>\n",
       "<tr><td>H2O connection url:</td>\n",
       "<td>http://127.0.0.1:54321</td></tr>\n",
       "<tr><td>H2O connection proxy:</td>\n",
       "<td>{'http': None, 'https': None}</td></tr>\n",
       "<tr><td>H2O internal security:</td>\n",
       "<td>False</td></tr>\n",
       "<tr><td>H2O API Extensions:</td>\n",
       "<td>Amazon S3, Algos, AutoML, Core V3, TargetEncoder, Core V4</td></tr>\n",
       "<tr><td>Python version:</td>\n",
       "<td>3.7.3 final</td></tr></table></div>"
      ],
      "text/plain": [
       "--------------------------  ---------------------------------------------------------\n",
       "H2O cluster uptime:         03 secs\n",
       "H2O cluster timezone:       America/Chicago\n",
       "H2O data parsing timezone:  UTC\n",
       "H2O cluster version:        3.28.0.3\n",
       "H2O cluster version age:    1 month and 4 days\n",
       "H2O cluster name:           H2O_from_python_wanyi_qogpaz\n",
       "H2O cluster total nodes:    1\n",
       "H2O cluster free memory:    3.521 Gb\n",
       "H2O cluster total cores:    8\n",
       "H2O cluster allowed cores:  8\n",
       "H2O cluster status:         accepting new members, healthy\n",
       "H2O connection url:         http://127.0.0.1:54321\n",
       "H2O connection proxy:       {'http': None, 'https': None}\n",
       "H2O internal security:      False\n",
       "H2O API Extensions:         Amazon S3, Algos, AutoML, Core V3, TargetEncoder, Core V4\n",
       "Python version:             3.7.3 final\n",
       "--------------------------  ---------------------------------------------------------"
      ]
     },
     "metadata": {},
     "output_type": "display_data"
    },
    {
     "name": "stdout",
     "output_type": "stream",
     "text": [
      "Connecting to H2O server at http://localhost:54321 ... successful.\n"
     ]
    },
    {
     "data": {
      "text/html": [
       "<div style=\"overflow:auto\"><table style=\"width:50%\"><tr><td>H2O cluster uptime:</td>\n",
       "<td>05 secs</td></tr>\n",
       "<tr><td>H2O cluster timezone:</td>\n",
       "<td>America/Chicago</td></tr>\n",
       "<tr><td>H2O data parsing timezone:</td>\n",
       "<td>UTC</td></tr>\n",
       "<tr><td>H2O cluster version:</td>\n",
       "<td>3.28.0.3</td></tr>\n",
       "<tr><td>H2O cluster version age:</td>\n",
       "<td>1 month and 4 days </td></tr>\n",
       "<tr><td>H2O cluster name:</td>\n",
       "<td>H2O_from_python_wanyi_qogpaz</td></tr>\n",
       "<tr><td>H2O cluster total nodes:</td>\n",
       "<td>1</td></tr>\n",
       "<tr><td>H2O cluster free memory:</td>\n",
       "<td>3.511 Gb</td></tr>\n",
       "<tr><td>H2O cluster total cores:</td>\n",
       "<td>8</td></tr>\n",
       "<tr><td>H2O cluster allowed cores:</td>\n",
       "<td>8</td></tr>\n",
       "<tr><td>H2O cluster status:</td>\n",
       "<td>locked, healthy</td></tr>\n",
       "<tr><td>H2O connection url:</td>\n",
       "<td>http://localhost:54321</td></tr>\n",
       "<tr><td>H2O connection proxy:</td>\n",
       "<td>{'http': None, 'https': None}</td></tr>\n",
       "<tr><td>H2O internal security:</td>\n",
       "<td>False</td></tr>\n",
       "<tr><td>H2O API Extensions:</td>\n",
       "<td>Amazon S3, Algos, AutoML, Core V3, TargetEncoder, Core V4</td></tr>\n",
       "<tr><td>Python version:</td>\n",
       "<td>3.7.3 final</td></tr></table></div>"
      ],
      "text/plain": [
       "--------------------------  ---------------------------------------------------------\n",
       "H2O cluster uptime:         05 secs\n",
       "H2O cluster timezone:       America/Chicago\n",
       "H2O data parsing timezone:  UTC\n",
       "H2O cluster version:        3.28.0.3\n",
       "H2O cluster version age:    1 month and 4 days\n",
       "H2O cluster name:           H2O_from_python_wanyi_qogpaz\n",
       "H2O cluster total nodes:    1\n",
       "H2O cluster free memory:    3.511 Gb\n",
       "H2O cluster total cores:    8\n",
       "H2O cluster allowed cores:  8\n",
       "H2O cluster status:         locked, healthy\n",
       "H2O connection url:         http://localhost:54321\n",
       "H2O connection proxy:       {'http': None, 'https': None}\n",
       "H2O internal security:      False\n",
       "H2O API Extensions:         Amazon S3, Algos, AutoML, Core V3, TargetEncoder, Core V4\n",
       "Python version:             3.7.3 final\n",
       "--------------------------  ---------------------------------------------------------"
      ]
     },
     "metadata": {},
     "output_type": "display_data"
    }
   ],
   "source": [
    "import h2o\n",
    "h2o.init()\n",
    "h2o.connect()\n",
    "from h2o.automl import H2OAutoML, get_leaderboard\n",
    "\n",
    "\n",
    "# General\n",
    "import numpy as np \n",
    "import pandas as pd "
   ]
  },
  {
   "cell_type": "code",
   "execution_count": 2,
   "metadata": {},
   "outputs": [
    {
     "name": "stdout",
     "output_type": "stream",
     "text": [
      "Parse progress: |█████████████████████████████████████████████████████████| 100%\n",
      "Parse progress: |█████████████████████████████████████████████████████████| 100%\n"
     ]
    }
   ],
   "source": [
    "df_train = h2o.import_file(\"../Kaggle/Enc data/train_imputed_212.csv\")\n",
    "df_test = h2o.import_file(\"../Kaggle/Enc data/test_imputed_212.csv\")"
   ]
  },
  {
   "cell_type": "code",
   "execution_count": 48,
   "metadata": {},
   "outputs": [],
   "source": [
    "x = df_train.columns\n",
    "y = \"hospital_death\"\n",
    "x.remove(y)\n",
    "\n",
    "x1 = df_test.columns\n",
    "y1 = \"hospital_death\"\n",
    "x1.remove(y1)"
   ]
  },
  {
   "cell_type": "code",
   "execution_count": null,
   "metadata": {},
   "outputs": [],
   "source": [
    "aml = H2OAutoML(max_models = 15, max_runtime_secs=300, seed = 1)\n",
    "aml.train(x = x, y = y, training_frame = df_train)"
   ]
  },
  {
   "cell_type": "code",
   "execution_count": 30,
   "metadata": {},
   "outputs": [
    {
     "name": "stdout",
     "output_type": "stream",
     "text": [
      "['encounter_id', 'hospital_death', 'age', 'bmi', 'elective_surgery', 'ethnicity', 'gender', 'icu_admit_source', 'icu_stay_type', 'icu_type', 'pre_icu_los_days', 'apache_3j_diagnosis', 'apache_post_operative', 'arf_apache', 'intubated_apache', 'map_apache', 'ventilated_apache', 'd1_diasbp_max', 'd1_diasbp_min', 'd1_mbp_max', 'd1_mbp_min', 'd1_resprate_max', 'd1_resprate_min', 'd1_sysbp_max', 'd1_sysbp_min', 'h1_diasbp_max', 'h1_diasbp_min', 'h1_mbp_max', 'h1_mbp_min', 'h1_sysbp_max', 'h1_sysbp_min', 'apache_4a_hospital_death_prob', 'apache_4a_icu_death_prob', 'aids', 'cirrhosis', 'diabetes_mellitus', 'hepatic_failure', 'immunosuppression', 'leukemia', 'lymphoma', 'solid_tumor_with_metastasis', 'apache_3j_bodysystem', 'gcs_total', 'albumin', 'creatinine', 'bun', 'glucose', 'heartrate', 'hematocrit', 'arterial_po2', 'spo2', 'sodium', 'calcium', 'temp', 'wbc', 'platelets', 'potassium', 'hemaglobin', 'hco3', 'inr']\n"
     ]
    }
   ],
   "source": [
    "print(df_train.columns)\n",
    "    \n",
    "#df_test.columns"
   ]
  },
  {
   "cell_type": "code",
   "execution_count": 35,
   "metadata": {},
   "outputs": [
    {
     "data": {
      "text/html": [
       "<table>\n",
       "<thead>\n",
       "<tr><th>model_id                                           </th><th style=\"text-align: right;\">     auc</th><th style=\"text-align: right;\">  logloss</th><th style=\"text-align: right;\">   aucpr</th><th style=\"text-align: right;\">  mean_per_class_error</th><th style=\"text-align: right;\">    rmse</th><th style=\"text-align: right;\">      mse</th></tr>\n",
       "</thead>\n",
       "<tbody>\n",
       "<tr><td>StackedEnsemble_AllModels_AutoML_20200310_140416   </td><td style=\"text-align: right;\">0.890424</td><td style=\"text-align: right;\"> 0.205367</td><td style=\"text-align: right;\">0.530585</td><td style=\"text-align: right;\">              0.259601</td><td style=\"text-align: right;\">0.238389</td><td style=\"text-align: right;\">0.0568294</td></tr>\n",
       "<tr><td>GBM_1_AutoML_20200310_140416                       </td><td style=\"text-align: right;\">0.890206</td><td style=\"text-align: right;\"> 0.196227</td><td style=\"text-align: right;\">0.517488</td><td style=\"text-align: right;\">              0.255683</td><td style=\"text-align: right;\">0.236872</td><td style=\"text-align: right;\">0.0561085</td></tr>\n",
       "<tr><td>StackedEnsemble_BestOfFamily_AutoML_20200310_140416</td><td style=\"text-align: right;\">0.889624</td><td style=\"text-align: right;\"> 0.205536</td><td style=\"text-align: right;\">0.529046</td><td style=\"text-align: right;\">              0.262297</td><td style=\"text-align: right;\">0.238598</td><td style=\"text-align: right;\">0.0569292</td></tr>\n",
       "<tr><td>GBM_2_AutoML_20200310_140416                       </td><td style=\"text-align: right;\">0.88792 </td><td style=\"text-align: right;\"> 0.196742</td><td style=\"text-align: right;\">0.524249</td><td style=\"text-align: right;\">              0.260857</td><td style=\"text-align: right;\">0.236651</td><td style=\"text-align: right;\">0.0560037</td></tr>\n",
       "<tr><td>DRF_1_AutoML_20200310_140416                       </td><td style=\"text-align: right;\">0.880468</td><td style=\"text-align: right;\"> 0.200428</td><td style=\"text-align: right;\">0.509421</td><td style=\"text-align: right;\">              0.259811</td><td style=\"text-align: right;\">0.238667</td><td style=\"text-align: right;\">0.0569618</td></tr>\n",
       "<tr><td>GLM_1_AutoML_20200310_140416                       </td><td style=\"text-align: right;\">0.873107</td><td style=\"text-align: right;\"> 0.206125</td><td style=\"text-align: right;\">0.479126</td><td style=\"text-align: right;\">              0.257645</td><td style=\"text-align: right;\">0.242708</td><td style=\"text-align: right;\">0.058907 </td></tr>\n",
       "</tbody>\n",
       "</table>"
      ]
     },
     "metadata": {},
     "output_type": "display_data"
    },
    {
     "data": {
      "text/plain": []
     },
     "execution_count": 35,
     "metadata": {},
     "output_type": "execute_result"
    }
   ],
   "source": [
    "lb = aml.leaderboard\n",
    "lb"
   ]
  },
  {
   "cell_type": "code",
   "execution_count": 45,
   "metadata": {},
   "outputs": [
    {
     "name": "stdout",
     "output_type": "stream",
     "text": [
      "stackedensemble prediction progress: |████████████████████████████████████| 100%\n"
     ]
    }
   ],
   "source": [
    "preds = aml.leader.predict(df_test.drop(y1,axis =1))"
   ]
  },
  {
   "cell_type": "code",
   "execution_count": 55,
   "metadata": {
    "scrolled": true
   },
   "outputs": [
    {
     "data": {
      "text/html": [
       "<table>\n",
       "<thead>\n",
       "<tr><th>predict  </th><th style=\"text-align: right;\">   Alive</th><th style=\"text-align: right;\">     Dead</th></tr>\n",
       "</thead>\n",
       "<tbody>\n",
       "<tr><td>Alive    </td><td style=\"text-align: right;\">0.963175</td><td style=\"text-align: right;\">0.0368255</td></tr>\n",
       "<tr><td>Alive    </td><td style=\"text-align: right;\">0.97103 </td><td style=\"text-align: right;\">0.0289704</td></tr>\n",
       "<tr><td>Alive    </td><td style=\"text-align: right;\">0.970371</td><td style=\"text-align: right;\">0.0296289</td></tr>\n",
       "<tr><td>Alive    </td><td style=\"text-align: right;\">0.898497</td><td style=\"text-align: right;\">0.101503 </td></tr>\n",
       "<tr><td>Dead     </td><td style=\"text-align: right;\">0.581629</td><td style=\"text-align: right;\">0.418371 </td></tr>\n",
       "<tr><td>Alive    </td><td style=\"text-align: right;\">0.912175</td><td style=\"text-align: right;\">0.0878251</td></tr>\n",
       "<tr><td>Alive    </td><td style=\"text-align: right;\">0.966179</td><td style=\"text-align: right;\">0.033821 </td></tr>\n",
       "<tr><td>Alive    </td><td style=\"text-align: right;\">0.957234</td><td style=\"text-align: right;\">0.0427659</td></tr>\n",
       "<tr><td>Alive    </td><td style=\"text-align: right;\">0.968954</td><td style=\"text-align: right;\">0.0310458</td></tr>\n",
       "<tr><td>Alive    </td><td style=\"text-align: right;\">0.966851</td><td style=\"text-align: right;\">0.0331493</td></tr>\n",
       "</tbody>\n",
       "</table>"
      ]
     },
     "metadata": {},
     "output_type": "display_data"
    },
    {
     "data": {
      "text/plain": []
     },
     "execution_count": 55,
     "metadata": {},
     "output_type": "execute_result"
    }
   ],
   "source": [
    "preds"
   ]
  },
  {
   "cell_type": "code",
   "execution_count": null,
   "metadata": {},
   "outputs": [],
   "source": []
  },
  {
   "cell_type": "code",
   "execution_count": 18,
   "metadata": {},
   "outputs": [
    {
     "ename": "NameError",
     "evalue": "name 'H2OGeneralizedLinearEstimator' is not defined",
     "output_type": "error",
     "traceback": [
      "\u001b[1;31m---------------------------------------------------------------------------\u001b[0m",
      "\u001b[1;31mNameError\u001b[0m                                 Traceback (most recent call last)",
      "\u001b[1;32m<ipython-input-18-2ba814b2afa7>\u001b[0m in \u001b[0;36m<module>\u001b[1;34m\u001b[0m\n\u001b[1;32m----> 1\u001b[1;33m \u001b[0moriginal_model\u001b[0m \u001b[1;33m=\u001b[0m \u001b[0mH2OGeneralizedLinearEstimator\u001b[0m\u001b[1;33m(\u001b[0m\u001b[1;33m)\u001b[0m\u001b[1;33m\u001b[0m\u001b[1;33m\u001b[0m\u001b[0m\n\u001b[0m\u001b[0;32m      2\u001b[0m \u001b[0moriginal_model\u001b[0m\u001b[1;33m.\u001b[0m\u001b[0mtrain\u001b[0m\u001b[1;33m(\u001b[0m\u001b[0mx\u001b[0m \u001b[1;33m=\u001b[0m \u001b[1;33m[\u001b[0m\u001b[1;34m\"Some column\"\u001b[0m\u001b[1;33m,\u001b[0m \u001b[1;34m\"Another column\"\u001b[0m\u001b[1;33m]\u001b[0m\u001b[1;33m,\u001b[0m \u001b[0my\u001b[0m \u001b[1;33m=\u001b[0m \u001b[1;34m\"response\"\u001b[0m\u001b[1;33m,\u001b[0m \u001b[0mtraining_frame\u001b[0m\u001b[1;33m=\u001b[0m\u001b[0mdf_train\u001b[0m\u001b[1;33m)\u001b[0m\u001b[1;33m\u001b[0m\u001b[1;33m\u001b[0m\u001b[0m\n\u001b[0;32m      3\u001b[0m \u001b[1;33m\u001b[0m\u001b[0m\n\u001b[0;32m      4\u001b[0m \u001b[0mpath\u001b[0m \u001b[1;33m=\u001b[0m \u001b[1;34m'C:/Users/wanyi/Desktop/Uchicago/Kaggle/Enc data/StackedEnsemble_AllModels_AutoML_20200221_114712.zip'\u001b[0m\u001b[1;33m\u001b[0m\u001b[1;33m\u001b[0m\u001b[0m\n\u001b[0;32m      5\u001b[0m \u001b[1;31m# original_model.download_mojo(path)\u001b[0m\u001b[1;33m\u001b[0m\u001b[1;33m\u001b[0m\u001b[1;33m\u001b[0m\u001b[0m\n",
      "\u001b[1;31mNameError\u001b[0m: name 'H2OGeneralizedLinearEstimator' is not defined"
     ]
    }
   ],
   "source": [
    "original_model = H2OGeneralizedLinearEstimator()\n",
    "original_model.train(x = , y = \"response\", training_frame=df_train)\n",
    "\n",
    "path = 'C:/Users/wanyi/Desktop/Uchicago/Kaggle/Enc data/StackedEnsemble_AllModels_AutoML_20200221_114712.zip'\n",
    "# original_model.download_mojo(path)\n",
    "\n",
    "imported_model = h2o.import_mojo(path)\n",
    "predictions = imported_model.predict(df_test)\n",
    "\n"
   ]
  },
  {
   "cell_type": "code",
   "execution_count": null,
   "metadata": {},
   "outputs": [],
   "source": [
    "import h2o\n",
    "h2o.init()\n",
    "h2o.connect()\n",
    "from h2o.automl import H2OAutoML, get_leaderboard\n",
    "\n",
    "#read data in h2o format \n",
    "df_train = h2o.import_file(\"../Kaggle/Enc data/train_imputed_212.csv\")\n",
    "df_test = h2o.import_file(\"../Kaggle/Enc data/test_imputed_212.csv\")\n",
    "\n",
    "#split train/test by features and targets\n",
    "x = df_train.columns\n",
    "y = \"hospital_death\"\n",
    "x.remove(y)\n",
    "\n",
    "x1 = df_test.columns\n",
    "y1 = \"hospital_death\"\n",
    "x1.remove(y1)\n",
    "\n",
    "# Train H2O for modellings \n",
    "aml = H2OAutoML(max_models = 15, max_runtime_secs=300, seed = 1)\n",
    "aml.train(x = x, y = y, training_frame = df_train)\n",
    "\n",
    "lb = aml.leaderboard\n",
    "print(lb)\n",
    "preds = aml.leader.predict(df_test.drop(y1,axis =1))\n",
    "print(preds) # default only show 10 rows"
   ]
  },
  {
   "cell_type": "code",
   "execution_count": null,
   "metadata": {},
   "outputs": [],
   "source": []
  },
  {
   "cell_type": "code",
   "execution_count": null,
   "metadata": {},
   "outputs": [],
   "source": []
  },
  {
   "cell_type": "code",
   "execution_count": null,
   "metadata": {},
   "outputs": [],
   "source": []
  }
 ],
 "metadata": {
  "kernelspec": {
   "display_name": "Python 3",
   "language": "python",
   "name": "python3"
  },
  "language_info": {
   "codemirror_mode": {
    "name": "ipython",
    "version": 3
   },
   "file_extension": ".py",
   "mimetype": "text/x-python",
   "name": "python",
   "nbconvert_exporter": "python",
   "pygments_lexer": "ipython3",
   "version": "3.7.5"
  }
 },
 "nbformat": 4,
 "nbformat_minor": 4
}
